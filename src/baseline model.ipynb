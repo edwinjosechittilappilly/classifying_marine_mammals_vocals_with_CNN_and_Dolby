{
 "cells": [
  {
   "cell_type": "code",
   "execution_count": null,
   "metadata": {
    "ExecuteTime": {
     "end_time": "2020-12-02T22:22:58.378366Z",
     "start_time": "2020-12-02T22:22:58.374121Z"
    }
   },
   "outputs": [],
   "source": [
    "DATASET_PATH = \"newdataset2.json\"\n",
    "\n",
    "def load_data(dataset_path):\n",
    "    with open(dataset_path, \"r\") as fp:\n",
    "        data = json.load(fp)\n",
    "\n",
    "    # convert list into numpy arrays\n",
    "    X = np.array(data['mfcc'])\n",
    "    y = np.array(data['labels'])\n",
    "    \n",
    "    print(\"Data successfully loaded\")\n",
    "    \n",
    "    return X, y, data "
   ]
  },
  {
   "cell_type": "code",
   "execution_count": null,
   "metadata": {
    "ExecuteTime": {
     "end_time": "2020-12-02T22:23:17.516572Z",
     "start_time": "2020-12-02T22:23:05.925069Z"
    }
   },
   "outputs": [],
   "source": [
    "X, y , data = load_data(DATASET_PATH)"
   ]
  },
  {
   "cell_type": "code",
   "execution_count": null,
   "metadata": {
    "ExecuteTime": {
     "end_time": "2020-12-02T22:24:04.160774Z",
     "start_time": "2020-12-02T22:24:04.026559Z"
    }
   },
   "outputs": [],
   "source": [
    "# split data\n",
    "from sklearn.model_selection import train_test_split\n",
    "\n",
    "X_train, X_test, y_train, y_test = train_test_split(X, y, test_size=0.3)"
   ]
  },
  {
   "cell_type": "code",
   "execution_count": null,
   "metadata": {
    "ExecuteTime": {
     "end_time": "2020-12-02T22:24:51.046135Z",
     "start_time": "2020-12-02T22:24:51.043102Z"
    }
   },
   "outputs": [],
   "source": [
    "# import Dummy Classifier\n",
    "from sklearn.dummy import DummyClassifier"
   ]
  },
  {
   "cell_type": "code",
   "execution_count": null,
   "metadata": {
    "ExecuteTime": {
     "end_time": "2020-12-02T22:28:40.610320Z",
     "start_time": "2020-12-02T22:28:40.592725Z"
    }
   },
   "outputs": [],
   "source": [
    "# instantiate dummyclassifier and fit\n",
    "dummy_clf = DummyClassifier()\n",
    "dummy_clf.fit(X_train, y_train)"
   ]
  },
  {
   "cell_type": "code",
   "execution_count": null,
   "metadata": {
    "ExecuteTime": {
     "end_time": "2020-12-02T22:29:28.287243Z",
     "start_time": "2020-12-02T22:29:28.282370Z"
    }
   },
   "outputs": [],
   "source": [
    "# predict on x_test\n",
    "import numpy as np\n",
    "\n",
    "ypred = dummy_clf.predict(X_test)\n",
    "\n",
    "# np.unique(ypred, return_counts=True)"
   ]
  },
  {
   "cell_type": "code",
   "execution_count": null,
   "metadata": {
    "ExecuteTime": {
     "end_time": "2020-12-02T22:30:15.310668Z",
     "start_time": "2020-12-02T22:30:15.304756Z"
    }
   },
   "outputs": [],
   "source": [
    "# get accuracy score on what was predicted vs actual\n",
    "dummy_clf.score(ypred, y_test)"
   ]
  },
  {
   "cell_type": "markdown",
   "metadata": {},
   "source": [
    "# Linear SVC model"
   ]
  },
  {
   "cell_type": "code",
   "execution_count": null,
   "metadata": {
    "ExecuteTime": {
     "end_time": "2020-12-02T22:43:05.026548Z",
     "start_time": "2020-12-02T22:43:05.022847Z"
    }
   },
   "outputs": [],
   "source": [
    "from sklearn.svm import LinearSVC\n",
    "from sklearn.pipeline import make_pipeline\n",
    "from sklearn.preprocessing import StandardScaler"
   ]
  },
  {
   "cell_type": "code",
   "execution_count": null,
   "metadata": {
    "ExecuteTime": {
     "end_time": "2020-12-02T23:28:13.690177Z",
     "start_time": "2020-12-02T23:28:13.686977Z"
    }
   },
   "outputs": [],
   "source": [
    "clf = LinearSVC(random_state=0)"
   ]
  },
  {
   "cell_type": "code",
   "execution_count": null,
   "metadata": {
    "ExecuteTime": {
     "end_time": "2020-12-02T23:29:02.318555Z",
     "start_time": "2020-12-02T23:29:02.295654Z"
    }
   },
   "outputs": [],
   "source": [
    "clf.fit(X_train, y_train)"
   ]
  }
 ],
 "metadata": {
  "kernelspec": {
   "display_name": "Python 3",
   "language": "python",
   "name": "python3"
  },
  "language_info": {
   "codemirror_mode": {
    "name": "ipython",
    "version": 3
   },
   "file_extension": ".py",
   "mimetype": "text/x-python",
   "name": "python",
   "nbconvert_exporter": "python",
   "pygments_lexer": "ipython3",
   "version": "3.8.5"
  },
  "varInspector": {
   "cols": {
    "lenName": 16,
    "lenType": 16,
    "lenVar": 40
   },
   "kernels_config": {
    "python": {
     "delete_cmd_postfix": "",
     "delete_cmd_prefix": "del ",
     "library": "var_list.py",
     "varRefreshCmd": "print(var_dic_list())"
    },
    "r": {
     "delete_cmd_postfix": ") ",
     "delete_cmd_prefix": "rm(",
     "library": "var_list.r",
     "varRefreshCmd": "cat(var_dic_list()) "
    }
   },
   "types_to_exclude": [
    "module",
    "function",
    "builtin_function_or_method",
    "instance",
    "_Feature"
   ],
   "window_display": false
  }
 },
 "nbformat": 4,
 "nbformat_minor": 4
}
