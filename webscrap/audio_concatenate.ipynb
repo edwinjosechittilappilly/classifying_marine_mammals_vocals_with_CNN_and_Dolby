{
 "cells": [
  {
   "cell_type": "code",
   "execution_count": 7,
   "metadata": {
    "ExecuteTime": {
     "end_time": "2020-12-02T07:28:47.834739Z",
     "start_time": "2020-12-02T07:28:47.832193Z"
    }
   },
   "outputs": [],
   "source": [
    "import pydub\n",
    "from pydub import AudioSegment\n",
    "import os \n",
    "from pydub.playback import play\n",
    "from pydub import AudioSegment\n",
    "os.environ[\"PATH\"] += os.pathsep + '/usr/local/bin'"
   ]
  },
  {
   "cell_type": "code",
   "execution_count": 14,
   "metadata": {
    "ExecuteTime": {
     "end_time": "2020-12-02T08:11:20.005773Z",
     "start_time": "2020-12-02T08:11:20.002291Z"
    }
   },
   "outputs": [],
   "source": [
    "\n",
    "def get_wavs_from_directory(dirpath):\n",
    "    \n",
    "    playlist = []\n",
    "    \n",
    "    for file in os.listdir(dirpath):\n",
    "        if file not in (\".ipynb_checkpoints\"):\n",
    "            print(file)\n",
    "            sound = AudioSegment.from_file(f\"{dirpath}{file}\") # f\"{dirpath}{file}\"\n",
    "        \n",
    "        # check length for 30 seconds in milliseconds\n",
    "            while len(sound) < 30000:\n",
    "                sound = sound * 2\n",
    "        \n",
    "            playlist.append(sound)\n",
    "    \n",
    "    \n",
    "    return playlist"
   ]
  },
  {
   "cell_type": "markdown",
   "metadata": {},
   "source": [
    "# Choose the data path to the raw scraped audio. \n",
    "* Here we will extend each audio track to 30 seconds and store into a new directory."
   ]
  },
  {
   "cell_type": "code",
   "execution_count": 50,
   "metadata": {
    "ExecuteTime": {
     "end_time": "2020-12-02T08:31:21.718172Z",
     "start_time": "2020-12-02T08:31:21.708816Z"
    }
   },
   "outputs": [
    {
     "name": "stdout",
     "output_type": "stream",
     "text": [
      "whiteside.slice6.0SecsToEndFileAt33.942Secs.wav\n",
      "whiteside.slice0.0SecsTo30.0Secs.wav\n",
      "whiteside.slice3.0SecsTo33.0Secs.wav\n"
     ]
    }
   ],
   "source": [
    "dirpath = \"../YouTube_data/whiteside/\"\n",
    "playlist = get_wavs_from_directory(dirpath)"
   ]
  },
  {
   "cell_type": "code",
   "execution_count": 51,
   "metadata": {
    "ExecuteTime": {
     "end_time": "2020-12-02T08:31:24.856651Z",
     "start_time": "2020-12-02T08:31:24.853008Z"
    }
   },
   "outputs": [
    {
     "data": {
      "text/plain": [
       "3"
      ]
     },
     "execution_count": 51,
     "metadata": {},
     "output_type": "execute_result"
    }
   ],
   "source": [
    "len(playlist)"
   ]
  },
  {
   "cell_type": "code",
   "execution_count": null,
   "metadata": {
    "ExecuteTime": {
     "end_time": "2020-11-25T08:24:31.872292Z",
     "start_time": "2020-11-25T08:24:31.870217Z"
    }
   },
   "outputs": [],
   "source": [
    "# playlist = playlist*2 # use this to double the size of the audio"
   ]
  },
  {
   "cell_type": "code",
   "execution_count": 17,
   "metadata": {
    "ExecuteTime": {
     "end_time": "2020-12-02T08:13:43.932899Z",
     "start_time": "2020-12-02T08:13:43.929533Z"
    }
   },
   "outputs": [],
   "source": [
    "# make 30 second chuncks for each wav file.\n",
    "from pydub.utils import make_chunks\n",
    "\n",
    "def save_new_audio(playlist,fish, path):\n",
    "    \n",
    "    chunk_len = 30000\n",
    "    \n",
    "    for idx, wav in enumerate(playlist):\n",
    "        audio = make_chunks(wav, chunk_len)\n",
    "        audio[0].export(f\"{path}{fish}{idx}.wav\", format=\"wav\")\n",
    "        \n",
    "    "
   ]
  },
  {
   "cell_type": "markdown",
   "metadata": {},
   "source": [
    "# Choose the path to the training_data"
   ]
  },
  {
   "cell_type": "code",
   "execution_count": 52,
   "metadata": {
    "ExecuteTime": {
     "end_time": "2020-12-02T08:31:40.594588Z",
     "start_time": "2020-12-02T08:31:40.588516Z"
    }
   },
   "outputs": [],
   "source": [
    "# new directory to store lengthen audio\n",
    "path = \"../training_data/Watkins/white sided dolphin/\"\n",
    "fish = \"newwhiteside\" # rename class\n",
    "save_new_audio(playlist, fish, dirpath) # can switch path depending on how you want to store"
   ]
  },
  {
   "cell_type": "markdown",
   "metadata": {},
   "source": [
    "# Part 2:\n",
    "* Now that each class has 30 second audio file of the original audio we will duplicate the audio files and augment this half for each class. These augmented files will be stored back in the appropriate class of the dataset.\n"
   ]
  },
  {
   "cell_type": "code",
   "execution_count": 40,
   "metadata": {
    "ExecuteTime": {
     "end_time": "2020-12-02T08:28:31.604151Z",
     "start_time": "2020-12-02T08:28:31.597900Z"
    }
   },
   "outputs": [],
   "source": [
    "# get path to training data and augment the audio\n",
    "import random \n",
    "from random import choice\n",
    "\n",
    "def get_wavs_from_training(dirpath= \"../\"):\n",
    "    \n",
    "    aug_playlist = []\n",
    "    \n",
    "    for file in os.listdir(dirpath):\n",
    "        if file not in (\".ipynb_checkpoints\"):\n",
    "            sound = AudioSegment.from_file(f\"{dirpath}{file}\")\n",
    "            aug_playlist.append(sound)\n",
    "            \n",
    "    for idx, sound in enumerate(aug_playlist):\n",
    "        octaves = random.choice([0.1667, -0.1667]) # randomly choose +/- 2 semitones\n",
    "        dB = random.choice([3, -3]) # randomly choose +/- 3 dB\n",
    "        \n",
    "        new_sample_rate = int(sound.frame_rate * (2.0 ** octaves))\n",
    "        new_sound = sound._spawn(sound.raw_data, overrides={'frame_rate': new_sample_rate})\n",
    "            \n",
    "        # grab the first 15 and last 15 and concat\n",
    "        seconds = 15 * 1000\n",
    "            \n",
    "        first = new_sound[:seconds]\n",
    "        last = new_sound[-seconds:] # add the - to get the last 15 sec\n",
    "            \n",
    "        aug_samp = first + last\n",
    "        aug_samp = aug_samp + dB # increase/decrease volume \n",
    "        \n",
    "        # export augmented audio into its appropriate class\n",
    "        aug_samp.export(f\"{path}{fish}aug{idx}.wav\", format=\"wav\") # switch path b/t path or dirpath2\n",
    "        print(f\"Saved Augmented file {idx}\")\n",
    "\n",
    "\n"
   ]
  },
  {
   "cell_type": "code",
   "execution_count": 53,
   "metadata": {
    "ExecuteTime": {
     "end_time": "2020-12-02T08:31:46.533726Z",
     "start_time": "2020-12-02T08:31:46.508403Z"
    }
   },
   "outputs": [
    {
     "name": "stdout",
     "output_type": "stream",
     "text": [
      "Saved Augmented file 0\n",
      "Saved Augmented file 1\n",
      "Saved Augmented file 2\n",
      "Saved Augmented file 3\n",
      "Saved Augmented file 4\n",
      "Saved Augmented file 5\n"
     ]
    }
   ],
   "source": [
    "# store augmented files back into the original training directories\n",
    "dirpath2= \"../training_data/Watkins/white sided dolphin/\"\n",
    "fish2 = \"newNRWhale\" # rename class & double check function to ensure the name file.\n",
    "\n",
    "\n",
    "get_wavs_from_training(dirpath)\n",
    "\n",
    "\n"
   ]
  },
  {
   "cell_type": "code",
   "execution_count": null,
   "metadata": {},
   "outputs": [],
   "source": []
  }
 ],
 "metadata": {
  "kernelspec": {
   "display_name": "Python 3",
   "language": "python",
   "name": "python3"
  },
  "language_info": {
   "codemirror_mode": {
    "name": "ipython",
    "version": 3
   },
   "file_extension": ".py",
   "mimetype": "text/x-python",
   "name": "python",
   "nbconvert_exporter": "python",
   "pygments_lexer": "ipython3",
   "version": "3.8.5"
  },
  "varInspector": {
   "cols": {
    "lenName": 16,
    "lenType": 16,
    "lenVar": 40
   },
   "kernels_config": {
    "python": {
     "delete_cmd_postfix": "",
     "delete_cmd_prefix": "del ",
     "library": "var_list.py",
     "varRefreshCmd": "print(var_dic_list())"
    },
    "r": {
     "delete_cmd_postfix": ") ",
     "delete_cmd_prefix": "rm(",
     "library": "var_list.r",
     "varRefreshCmd": "cat(var_dic_list()) "
    }
   },
   "types_to_exclude": [
    "module",
    "function",
    "builtin_function_or_method",
    "instance",
    "_Feature"
   ],
   "window_display": false
  }
 },
 "nbformat": 4,
 "nbformat_minor": 4
}
