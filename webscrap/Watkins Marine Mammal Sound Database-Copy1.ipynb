{
 "cells": [
  {
   "cell_type": "code",
   "execution_count": 1,
   "metadata": {
    "ExecuteTime": {
     "end_time": "2021-02-19T08:26:25.730539Z",
     "start_time": "2021-02-19T08:26:23.444632Z"
    }
   },
   "outputs": [],
   "source": [
    "import warnings\n",
    "warnings.filterwarnings('ignore')\n",
    "\n",
    "import copy\n",
    "import pandas as pd \n",
    "\n",
    "# Requests sends and recieves HTTP requests.\n",
    "import requests \n",
    "\n",
    "# Beautiful soup parses HTML documents in python.\n",
    "from bs4 import BeautifulSoup\n",
    "\n",
    "from pymongo import MongoClient\n",
    "import pprint"
   ]
  },
  {
   "cell_type": "markdown",
   "metadata": {},
   "source": [
    "# Step 1: Check out the website in a browser\n",
    "\n",
    "1: The table and wav is inside of body /html/body/div[3]/div/div/table/tbody/tr[2]/td[4]/a"
   ]
  },
  {
   "cell_type": "markdown",
   "metadata": {},
   "source": [
    "# Step 2: Send a Get request for the data."
   ]
  },
  {
   "cell_type": "code",
   "execution_count": 2,
   "metadata": {
    "ExecuteTime": {
     "end_time": "2021-02-19T08:26:34.768772Z",
     "start_time": "2021-02-19T08:26:34.257875Z"
    }
   },
   "outputs": [],
   "source": [
    "epidemic_sounds = \"https://www.epidemicsound.com/my-music/playlists/6730674\"\n",
    "\n",
    "r = requests.get(epidemic_sounds)"
   ]
  },
  {
   "cell_type": "code",
   "execution_count": 3,
   "metadata": {
    "ExecuteTime": {
     "end_time": "2021-02-19T08:26:36.113388Z",
     "start_time": "2021-02-19T08:26:36.104994Z"
    }
   },
   "outputs": [
    {
     "data": {
      "text/plain": [
       "<Response [200]>"
      ]
     },
     "execution_count": 3,
     "metadata": {},
     "output_type": "execute_result"
    }
   ],
   "source": [
    "r # A status code of 200 means that everything went well"
   ]
  },
  {
   "cell_type": "markdown",
   "metadata": {},
   "source": [
    "We can check out the raw hypertext in the content attribute of the request."
   ]
  },
  {
   "cell_type": "code",
   "execution_count": 4,
   "metadata": {
    "ExecuteTime": {
     "end_time": "2021-02-19T08:26:49.653765Z",
     "start_time": "2021-02-19T08:26:49.650255Z"
    }
   },
   "outputs": [
    {
     "data": {
      "text/plain": [
       "b'<!DOCTYPE html>\\n<html lang=\"en\">\\n    <head>\\n        <meta charset=\"utf-8\">\\n        <title>Royalty free music and sound effects | Epidemic Sound</title>\\n        <meta name=\"viewport\" content=\"width=device-width, initial-scale=1.0\">\\n        <meta name=\"description\" property=\"og:description\" content=\"Struggle with music licensing for video, film or YouTube? Our library is of the highest quality, usable on all social platforms and royalty-free forever.\" data-react-helmet=\"true\">\\n        <meta property=\"og:title\" content=\"Royalty free music and sound effects | Epidemic Sound\" data-react-helmet=\"true\">\\n        \\n        <meta property=\"og:image\" content=\"https://cdn.epidemicsound.com/legacy/14/images/epidemic-sound-logo-square.png\" />\\n        \\n\\n        <meta name=\"google-site-verification\" content=\"qH-gnzrsIiBL48SfD-rptGgkmBJalUjvMEWK3TfMoak\" />\\n\\n        <link rel=\"canonical\" href=\"https://www.epidemicsound.com/my-music/playlists/6730674/\" />\\n\\n        <!-- CSS -->\\n        <!-- normalize.css needs to be loaded first due to specificity rules -->\\n        <link href=\"https://cdn.epidemicsound.com/legacy/14/css/normalize.css\" rel=\"stylesheet\">\\n\\n        <link href=\"https://cdn.epidemicsound.com/player/20210218.23-22d8c12b94b9986ac9abfde05215431333c35960/mainapp.css\" rel=\"stylesheet\">\\n\\n        <link rel=\"icon\" type=\"image/png\" href=\"https://cdn.epidemicsound.com/legacy/14/images/favicon.rebrand.png\">\\n\\n        \\n\\n        <link rel=\"preload\" as=\"font\" href=\"https://cdn.epidemicsound.com/legacy/14/fonts/epidemic/Epidemic-Bold.woff\" type=\"font/woff\" crossorigin=\"anonymous\">\\n<link rel=\"preload\" as=\"font\" href=\"https://cdn.epidemicsound.com/legacy/14/fonts/epidemic/Epidemic-Bold.woff2\" type=\"font/woff2\" crossorigin=\"anonymous\">\\n<link rel=\"preload\" as=\"font\" href=\"https://cdn.epidemicsound.com/legacy/14/fonts/epidemic/Epidemic-SemiBold.woff\" type=\"font/woff\" crossorigin=\"anonymous\">\\n<link rel=\"preload\" as=\"font\" href=\"https://cdn.epidemicsound.com/legacy/14/fonts/epidemic/Epidemic-SemiBold.woff2\" type=\"font/woff2\" crossorigin=\"anonymous\">\\n<link rel=\"preload\" as=\"font\" href=\"https://cdn.epidemicsound.com/legacy/14/fonts/epidemic/Epidemic-Medium.woff\" type=\"font/woff\" crossorigin=\"anonymous\">\\n<link rel=\"preload\" as=\"font\" href=\"https://cdn.epidemicsound.com/legacy/14/fonts/epidemic/Epidemic-Medium.woff2\" type=\"font/woff2\" crossorigin=\"anonymous\">\\n\\n<style>\\n    /* woff */\\n    @font-face {\\n        font-family: \\'Epidemic\\';\\n        font-weight: 500;\\n        src: url(\\'https://cdn.epidemicsound.com/legacy/14/fonts/epidemic/Epidemic-Medium.woff\\') format(\\'woff\\');\\n    }\\n\\n    @font-face {\\n        font-family: \\'Epidemic\\';\\n        font-weight: 600;\\n        src: url(\\'https://cdn.epidemicsound.com/legacy/14/fonts/epidemic/Epidemic-SemiBold.woff\\') format(\\'woff\\');\\n    }\\n\\n    @font-face {\\n        font-family: \\'Epidemic\\';\\n        font-weight: 700;\\n        src: url(\\'https://cdn.epidemicsound.com/legacy/14/fonts/epidemic/Epidemic-Bold.woff\\') format(\\'woff\\');\\n    }\\n\\n    /* woff2 */\\n    @font-face {\\n        font-family: \\'Epidemic\\';\\n        font-weight: 500;\\n        src: url(\\'https://cdn.epidemicsound.com/legacy/14/fonts/epidemic/Epidemic-Medium.woff2\\') format(\\'woff2\\');\\n    }\\n\\n    @font-face {\\n        font-family: \\'Epidemic\\';\\n        font-weight: 600;\\n        src: url(\\'https://cdn.epidemicsound.com/legacy/14/fonts/epidemic/Epidemic-SemiBold.woff2\\') format(\\'woff2\\');\\n    }\\n\\n    @font-face {\\n        font-family: \\'Epidemic\\';\\n        font-weight: 700;\\n        src: url(\\'https://cdn.epidemicsound.com/legacy/14/fonts/epidemic/Epidemic-Bold.woff2\\') format(\\'woff2\\');\\n    }\\n</style>\\n        \\n                <!-- Start Visual Website Optimizer Asynchronous Code -->\\n    <!-- End Visual Website Optimizer Asynchronous Code -->\\n    <!-- Start VWO Smartcode -->\\n    <script src=\"https://dev.visualwebsiteoptimizer.com/lib/341125.js\"></script>\\n    <!-- End VWO Smartcode -->\\n        \\n\\n        <!-- Google Tag Manager -->\\n        <script>\\n            window.dataLayer = window.dataLayer || [];\\n            window._fbq = window._fbq || [];\\n        </script>\\n        <!-- uncomment for local testing gtm -->\\n        <!--<noscript>\\n            <iframe src=\"//www.googletagmanager.com/ns.html?id=GTM-K3LQPX\"\\n            height=\"0\" width=\"0\" style=\"display:none;visibility:hidden\"></iframe>\\n        </noscript>-->\\n        <script>(function(w,d,s,l,i){w[l]=w[l]||[];w[l].push({\\'gtm.start\\':\\n        new Date().getTime(),event:\\'gtm.js\\'});var f=d.getElementsByTagName(s)[0],\\n        j=d.createElement(s),dl=l!=\\'dataLayer\\'?\\'&l=\\'+l:\\'\\';j.async=true;j.src=\\n        \\'https://www.googletagmanager.com/gtm.js?id=\\'+i+dl;f.parentNode.insertBefore(j,f);\\n        })(window,document,\\'script\\',\\'dataLayer\\',\\'GTM-K3LQPX\\');</script>\\n        <!-- End Google Tag Manager -->\\n\\n        <!-- Start CookiePro: Enable AB-testing for CookiePro consent banner -->\\n        \\n            <!-- Tell GTM to exclude the Cookiepro script and load other scripts as normal -->\\n            <script>window.dataLayer.push({\\'event\\': \\'DoNotLoadOneTrust\\'})</script>\\n        \\n        <!-- End Cookiepro -->\\n    \\n        <script type=\"application/ld+json\">\\n            {\"@context\": \"http://schema.org\",\\n            \"@type\": \"Organization\",\\n            \"name\": \"Epidemic Sound\",\\n            \"url\": \"https://www.epidemicsound.com\",\\n            \"logo\": \"https://cdn.epidemicsound.com/legacy/14/images/epidemic-sound-logo-square.png\",\\n            \"address\":\\n                [\\n                    {\\n                        \"@type\": \"PostalAddress\",\\n                        \"addressLocality\": \"Stockholm\",\\n                        \"addressRegion\": \"Sweden\",\\n                        \"postalCode\": \"118 27\",\\n                        \"streetAddress\": \"V\\xc3\\xa4stg\\xc3\\xb6tagatan 2\"\\n                    },\\n                    {\\n                        \"@type\": \"PostalAddress\",\\n                        \"addressLocality\": \"Santa Monica\",\\n                        \"addressRegion\": \"USA\",\\n                        \"postalCode\": \"CA 90404\",\\n                        \"streetAddress\": \"2040 Broadway\"\\n                    },\\n                    {\\n                        \"@type\": \"PostalAddress\",\\n                        \"addressLocality\": \"New York\",\\n                        \"addressRegion\": \"USA\",\\n                        \"postalCode\": \"NY 10013\",\\n                        \"streetAddress\": \"79 Walker Street\"\\n                    },\\n              {\\n                        \"@type\": \"PostalAddress\",\\n                        \"addressLocality\": \"Hamburg\",\\n                        \"addressRegion\": \"Germany\",\\n                        \"postalCode\": \"20357 Hamburg\",\\n                        \"streetAddress\": \"Schulterblatt 58\"\\n                    },\\n              {\\n                        \"@type\": \"PostalAddress\",\\n                        \"addressLocality\": \"Amsterdam\",\\n                        \"addressRegion\": \"Netherlands\",\\n                        \"postalCode\": \"1016XG Amsterdam\",\\n                        \"streetAddress\": \"Passeerdersgracht 19A\"\\n                    },\\n              {\\n                        \"@type\": \"PostalAddress\",\\n                        \"addressLocality\": \"Sydney\",\\n                        \"addressRegion\": \"Australia\",\\n                        \"postalCode\": \"Sydney 2000\",\\n                        \"streetAddress\": \"333 George St\"\\n                    },\\n              {\\n                        \"@type\": \"PostalAddress\",\\n                        \"addressLocality\": \"Madrid\",\\n                        \"addressRegion\": \"Spain\",\\n                        \"postalCode\": \"28010 Madrid\",\\n                        \"streetAddress\": \"Eloy Gonzalo 27\"\\n                    }\\n                ],\\n            \"image\": \"https://cdn.epidemicsound.com/legacy/14/images/epidemic-sound-logo-square.png\",\\n            \"foundingDate\": \"2009\",\\n            \"founders\": [\\n             {\\n             \"@type\": \"Person\",\\n             \"name\": \"David Stenmarck\"\\n             },\\n             {\\n             \"@type\": \"Person\",\\n             \"name\": \"Oscar H\\xc3\\xb6glund\"\\n             },\\n             {\\n             \"@type\": \"Person\",\\n             \"name\": \"Jan Zachrisson\"\\n             },\\n             {\\n             \"@type\": \"Person\",\\n             \"name\": \"Hjalmar Winbladh\"\\n             },\\n             {\\n             \"@type\": \"Person\",\\n             \"name\": \"Peer \\xc3\\x85str\\xc3\\xb6m\"\\n             } ],\\n            \"email\": \"hello@epidemicsound.com \",\\n            \"description\": \"At 30,000+ professionally produced tracks, Epidemic Sound\\xc3\\xads carefully curated music catalog is tailored to storytellers, streaming services, and in-store spaces. Broadcasters, production companies, and YouTubers use our tracks to tell their stories.\",\\n             \"potentialAction\": {\\n               \"@type\": \"SearchAction\",\\n               \"target\": \"https://www.epidemicsound.com/search/?term={search_term_string}\",\\n               \"query-input\": \"required name=search_term_string\"\\n             }\\n            ,\"sameAs\":[\"https://www.facebook.com/EpidemicSound/\",\\n            \"https://twitter.com/epidemicsound\",\\n            \"https://open.spotify.com/user/epidemicsound?si=wJ4g9W5mQaWkoECTLWo0yw\",\\n            \"https://www.instagram.com/epidemicsound/\",\\n            \"https://soundcloud.com/epidemicsound\",\\n            \"https://www.youtube.com/channel/UC_sOjEnngNB2y_AEaDd2cSA\",\\n            \"https://www.linkedin.com/company/epidemic-sound/\"]}\\n        </script>\\n\\n        <script>\\n        // This is a function to redirect old hash urls to without hash\\n        // so: /#/browse -> /browse\\n            (function() {\\n                var hashLocation = window.location.href.indexOf(\\'#\\');\\n                var hashWithoutHash = window.location.hash.substr(1);\\n                var hostname = window.location.href.substr(0, hashLocation);\\n\\n                if (window.location.origin+\\'/\\' === hostname) {\\n                    window.location.href = window.location.origin + hashWithoutHash;\\n                }\\n            })();\\n        </script>\\n        <script src=\"https://cdn.epidemicsound.com/legacy/14/js/es_track.js\"></script>\\n        <script type=\"text/javascript\">\\n            window.__INITDATA = {\"user\": {\"userName\": \"6b0250bf2a704010af5572b9dec5e07a\", \"isAnonymous\": true, \"countryName\": \"United States of America\", \"countryAlpha2\": \"US\", \"euCountry\": false, \"currency\": \"USD\", \"vatRate\": 0.0, \"vatValid\": false, \"addressValid\": false, \"message\": {}, \"activeProjectId\": null}, \"config\": {\"MEDIA_URL\": \"https://cdn.epidemicsound.com/legacy/14/\", \"SENTRY_DSN\": \"https://b6756e6e0de64511aaf4a2f122f3b91a@sentry.io/270052\", \"CAPTCHA_CLIENT_KEY\": \"6Lc_7J8UAAAAABS54JIJdevGCaPrmwz_df-No3rk\", \"AGGRESSIVE_CAPTCHA_CLIENT_KEY\": \"6LfZVL4ZAAAAACYhfK3ymOLmlP-oGP3mslflKPxY\", \"FACEBOOK_CLIENT_ID\": \"322917571624608\", \"FACEBOOK_CLIENT_TOKEN\": \"bd75306a808d8156a0c8d96b75d188fe\", \"FACEBOOK_GRAPHAPI_BASEURL\": \"https://graph.facebook.com/v8.0\"}};\\n            window.__RECURLY_PUBLIC_KEY = \"ewr1\\\\u002DYYr0JsQKITjLmeqHAb7L0U\";\\n            window.__MEDIA_URL = \\'https://cdn.epidemicsound.com/legacy/14/\\';\\n            window.__EXPERIMENTS = {\"clickToPlayTrack\": 0, \"multi-artist-homepage\": null, \"pricing-features-rerun\": 0, \"pricing-section-toggle\": null, \"removeCartIcon\": 0};\\n            window.__ERROR_CODE = null;\\n        </script>\\n\\n        \\n    </head>\\n    <body>\\n        <!-- Google Tag Manager (noscript) -->\\n        <noscript>\\n            <iframe src=\"https://www.googletagmanager.com/ns.html?id=GTM-K3LQPX\"\\n                    height=\"0\" width=\"0\" style=\"display:none;visibility:hidden\">\\n            </iframe>\\n        </noscript>\\n        <!-- End Google Tag Manager (noscript) -->\\n        <div id=\"mainappRoot\"></div>\\n\\n        <script\\n            id=\"bundle\"\\n            src=\"https://cdn.epidemicsound.com/player/20210218.23-22d8c12b94b9986ac9abfde05215431333c35960/mainapp.bundle.js\"\\n        ></script>\\n    </body>\\n</html>'"
      ]
     },
     "execution_count": 4,
     "metadata": {},
     "output_type": "execute_result"
    }
   ],
   "source": [
    "r.content"
   ]
  },
  {
   "cell_type": "markdown",
   "metadata": {},
   "source": []
  },
  {
   "cell_type": "code",
   "execution_count": 5,
   "metadata": {
    "ExecuteTime": {
     "end_time": "2021-02-19T08:26:58.249114Z",
     "start_time": "2021-02-19T08:26:58.226056Z"
    }
   },
   "outputs": [],
   "source": [
    "# connect to the hosted MongoDB instance\n",
    "client = MongoClient('localhost', 27017)"
   ]
  },
  {
   "cell_type": "code",
   "execution_count": 6,
   "metadata": {
    "ExecuteTime": {
     "end_time": "2021-02-19T08:27:17.740758Z",
     "start_time": "2021-02-19T08:27:17.737506Z"
    }
   },
   "outputs": [],
   "source": [
    "# Create a database\n",
    "db = client['live_stream']"
   ]
  },
  {
   "cell_type": "code",
   "execution_count": 7,
   "metadata": {
    "ExecuteTime": {
     "end_time": "2021-02-19T08:27:38.270152Z",
     "start_time": "2021-02-19T08:27:38.267442Z"
    }
   },
   "outputs": [],
   "source": [
    "# Create a collection called dolphins\n",
    "\n",
    "Lucid_wavs = db['songs']"
   ]
  },
  {
   "cell_type": "code",
   "execution_count": 8,
   "metadata": {
    "ExecuteTime": {
     "end_time": "2021-02-19T08:27:45.188715Z",
     "start_time": "2021-02-19T08:27:45.185640Z"
    }
   },
   "outputs": [
    {
     "data": {
      "text/plain": [
       "Collection(Database(MongoClient(host=['localhost:27017'], document_class=dict, tz_aware=False, connect=True), 'live_stream'), 'songs')"
      ]
     },
     "execution_count": 8,
     "metadata": {},
     "output_type": "execute_result"
    }
   ],
   "source": [
    "Lucid_wavs"
   ]
  },
  {
   "cell_type": "markdown",
   "metadata": {},
   "source": [
    "# Step 3: Save all the hypertext into mongo for later use."
   ]
  },
  {
   "cell_type": "code",
   "execution_count": 9,
   "metadata": {
    "ExecuteTime": {
     "end_time": "2021-02-19T08:28:31.303793Z",
     "start_time": "2021-02-19T08:28:01.074310Z"
    }
   },
   "outputs": [
    {
     "ename": "ServerSelectionTimeoutError",
     "evalue": "localhost:27017: [Errno 61] Connection refused, Timeout: 30s, Topology Description: <TopologyDescription id: 602f765295c7ccdbf304f897, topology_type: Single, servers: [<ServerDescription ('localhost', 27017) server_type: Unknown, rtt: None, error=AutoReconnect('localhost:27017: [Errno 61] Connection refused')>]>",
     "output_type": "error",
     "traceback": [
      "\u001b[0;31m---------------------------------------------------------------------------\u001b[0m",
      "\u001b[0;31mServerSelectionTimeoutError\u001b[0m               Traceback (most recent call last)",
      "\u001b[0;32m<ipython-input-9-774182a3036f>\u001b[0m in \u001b[0;36m<module>\u001b[0;34m\u001b[0m\n\u001b[0;32m----> 1\u001b[0;31m \u001b[0mLucid_wavs\u001b[0m\u001b[0;34m.\u001b[0m\u001b[0minsert_one\u001b[0m\u001b[0;34m(\u001b[0m\u001b[0;34m{\u001b[0m\u001b[0;34m'html'\u001b[0m\u001b[0;34m:\u001b[0m \u001b[0mr\u001b[0m\u001b[0;34m.\u001b[0m\u001b[0mcontent\u001b[0m\u001b[0;34m}\u001b[0m\u001b[0;34m)\u001b[0m \u001b[0;31m# change name to collections\u001b[0m\u001b[0;34m\u001b[0m\u001b[0;34m\u001b[0m\u001b[0m\n\u001b[0m",
      "\u001b[0;32m~/opt/anaconda3/lib/python3.8/site-packages/pymongo/collection.py\u001b[0m in \u001b[0;36minsert_one\u001b[0;34m(self, document, bypass_document_validation, session)\u001b[0m\n\u001b[1;32m    696\u001b[0m         \u001b[0mwrite_concern\u001b[0m \u001b[0;34m=\u001b[0m \u001b[0mself\u001b[0m\u001b[0;34m.\u001b[0m\u001b[0m_write_concern_for\u001b[0m\u001b[0;34m(\u001b[0m\u001b[0msession\u001b[0m\u001b[0;34m)\u001b[0m\u001b[0;34m\u001b[0m\u001b[0;34m\u001b[0m\u001b[0m\n\u001b[1;32m    697\u001b[0m         return InsertOneResult(\n\u001b[0;32m--> 698\u001b[0;31m             self._insert(document,\n\u001b[0m\u001b[1;32m    699\u001b[0m                          \u001b[0mwrite_concern\u001b[0m\u001b[0;34m=\u001b[0m\u001b[0mwrite_concern\u001b[0m\u001b[0;34m,\u001b[0m\u001b[0;34m\u001b[0m\u001b[0;34m\u001b[0m\u001b[0m\n\u001b[1;32m    700\u001b[0m                          \u001b[0mbypass_doc_val\u001b[0m\u001b[0;34m=\u001b[0m\u001b[0mbypass_document_validation\u001b[0m\u001b[0;34m,\u001b[0m\u001b[0;34m\u001b[0m\u001b[0;34m\u001b[0m\u001b[0m\n",
      "\u001b[0;32m~/opt/anaconda3/lib/python3.8/site-packages/pymongo/collection.py\u001b[0m in \u001b[0;36m_insert\u001b[0;34m(self, docs, ordered, check_keys, manipulate, write_concern, op_id, bypass_doc_val, session)\u001b[0m\n\u001b[1;32m    611\u001b[0m         \u001b[0;34m\"\"\"Internal insert helper.\"\"\"\u001b[0m\u001b[0;34m\u001b[0m\u001b[0;34m\u001b[0m\u001b[0m\n\u001b[1;32m    612\u001b[0m         \u001b[0;32mif\u001b[0m \u001b[0misinstance\u001b[0m\u001b[0;34m(\u001b[0m\u001b[0mdocs\u001b[0m\u001b[0;34m,\u001b[0m \u001b[0mabc\u001b[0m\u001b[0;34m.\u001b[0m\u001b[0mMapping\u001b[0m\u001b[0;34m)\u001b[0m\u001b[0;34m:\u001b[0m\u001b[0;34m\u001b[0m\u001b[0;34m\u001b[0m\u001b[0m\n\u001b[0;32m--> 613\u001b[0;31m             return self._insert_one(\n\u001b[0m\u001b[1;32m    614\u001b[0m                 \u001b[0mdocs\u001b[0m\u001b[0;34m,\u001b[0m \u001b[0mordered\u001b[0m\u001b[0;34m,\u001b[0m \u001b[0mcheck_keys\u001b[0m\u001b[0;34m,\u001b[0m \u001b[0mmanipulate\u001b[0m\u001b[0;34m,\u001b[0m \u001b[0mwrite_concern\u001b[0m\u001b[0;34m,\u001b[0m \u001b[0mop_id\u001b[0m\u001b[0;34m,\u001b[0m\u001b[0;34m\u001b[0m\u001b[0;34m\u001b[0m\u001b[0m\n\u001b[1;32m    615\u001b[0m                 bypass_doc_val, session)\n",
      "\u001b[0;32m~/opt/anaconda3/lib/python3.8/site-packages/pymongo/collection.py\u001b[0m in \u001b[0;36m_insert_one\u001b[0;34m(self, doc, ordered, check_keys, manipulate, write_concern, op_id, bypass_doc_val, session)\u001b[0m\n\u001b[1;32m    600\u001b[0m             \u001b[0m_check_write_command_response\u001b[0m\u001b[0;34m(\u001b[0m\u001b[0mresult\u001b[0m\u001b[0;34m)\u001b[0m\u001b[0;34m\u001b[0m\u001b[0;34m\u001b[0m\u001b[0m\n\u001b[1;32m    601\u001b[0m \u001b[0;34m\u001b[0m\u001b[0m\n\u001b[0;32m--> 602\u001b[0;31m         self.__database.client._retryable_write(\n\u001b[0m\u001b[1;32m    603\u001b[0m             acknowledged, _insert_command, session)\n\u001b[1;32m    604\u001b[0m \u001b[0;34m\u001b[0m\u001b[0m\n",
      "\u001b[0;32m~/opt/anaconda3/lib/python3.8/site-packages/pymongo/mongo_client.py\u001b[0m in \u001b[0;36m_retryable_write\u001b[0;34m(self, retryable, func, session)\u001b[0m\n\u001b[1;32m   1495\u001b[0m     \u001b[0;32mdef\u001b[0m \u001b[0m_retryable_write\u001b[0m\u001b[0;34m(\u001b[0m\u001b[0mself\u001b[0m\u001b[0;34m,\u001b[0m \u001b[0mretryable\u001b[0m\u001b[0;34m,\u001b[0m \u001b[0mfunc\u001b[0m\u001b[0;34m,\u001b[0m \u001b[0msession\u001b[0m\u001b[0;34m)\u001b[0m\u001b[0;34m:\u001b[0m\u001b[0;34m\u001b[0m\u001b[0;34m\u001b[0m\u001b[0m\n\u001b[1;32m   1496\u001b[0m         \u001b[0;34m\"\"\"Internal retryable write helper.\"\"\"\u001b[0m\u001b[0;34m\u001b[0m\u001b[0;34m\u001b[0m\u001b[0m\n\u001b[0;32m-> 1497\u001b[0;31m         \u001b[0;32mwith\u001b[0m \u001b[0mself\u001b[0m\u001b[0;34m.\u001b[0m\u001b[0m_tmp_session\u001b[0m\u001b[0;34m(\u001b[0m\u001b[0msession\u001b[0m\u001b[0;34m)\u001b[0m \u001b[0;32mas\u001b[0m \u001b[0ms\u001b[0m\u001b[0;34m:\u001b[0m\u001b[0;34m\u001b[0m\u001b[0;34m\u001b[0m\u001b[0m\n\u001b[0m\u001b[1;32m   1498\u001b[0m             \u001b[0;32mreturn\u001b[0m \u001b[0mself\u001b[0m\u001b[0;34m.\u001b[0m\u001b[0m_retry_with_session\u001b[0m\u001b[0;34m(\u001b[0m\u001b[0mretryable\u001b[0m\u001b[0;34m,\u001b[0m \u001b[0mfunc\u001b[0m\u001b[0;34m,\u001b[0m \u001b[0ms\u001b[0m\u001b[0;34m,\u001b[0m \u001b[0;32mNone\u001b[0m\u001b[0;34m)\u001b[0m\u001b[0;34m\u001b[0m\u001b[0;34m\u001b[0m\u001b[0m\n\u001b[1;32m   1499\u001b[0m \u001b[0;34m\u001b[0m\u001b[0m\n",
      "\u001b[0;32m~/opt/anaconda3/lib/python3.8/contextlib.py\u001b[0m in \u001b[0;36m__enter__\u001b[0;34m(self)\u001b[0m\n\u001b[1;32m    111\u001b[0m         \u001b[0;32mdel\u001b[0m \u001b[0mself\u001b[0m\u001b[0;34m.\u001b[0m\u001b[0margs\u001b[0m\u001b[0;34m,\u001b[0m \u001b[0mself\u001b[0m\u001b[0;34m.\u001b[0m\u001b[0mkwds\u001b[0m\u001b[0;34m,\u001b[0m \u001b[0mself\u001b[0m\u001b[0;34m.\u001b[0m\u001b[0mfunc\u001b[0m\u001b[0;34m\u001b[0m\u001b[0;34m\u001b[0m\u001b[0m\n\u001b[1;32m    112\u001b[0m         \u001b[0;32mtry\u001b[0m\u001b[0;34m:\u001b[0m\u001b[0;34m\u001b[0m\u001b[0;34m\u001b[0m\u001b[0m\n\u001b[0;32m--> 113\u001b[0;31m             \u001b[0;32mreturn\u001b[0m \u001b[0mnext\u001b[0m\u001b[0;34m(\u001b[0m\u001b[0mself\u001b[0m\u001b[0;34m.\u001b[0m\u001b[0mgen\u001b[0m\u001b[0;34m)\u001b[0m\u001b[0;34m\u001b[0m\u001b[0;34m\u001b[0m\u001b[0m\n\u001b[0m\u001b[1;32m    114\u001b[0m         \u001b[0;32mexcept\u001b[0m \u001b[0mStopIteration\u001b[0m\u001b[0;34m:\u001b[0m\u001b[0;34m\u001b[0m\u001b[0;34m\u001b[0m\u001b[0m\n\u001b[1;32m    115\u001b[0m             \u001b[0;32mraise\u001b[0m \u001b[0mRuntimeError\u001b[0m\u001b[0;34m(\u001b[0m\u001b[0;34m\"generator didn't yield\"\u001b[0m\u001b[0;34m)\u001b[0m \u001b[0;32mfrom\u001b[0m \u001b[0;32mNone\u001b[0m\u001b[0;34m\u001b[0m\u001b[0;34m\u001b[0m\u001b[0m\n",
      "\u001b[0;32m~/opt/anaconda3/lib/python3.8/site-packages/pymongo/mongo_client.py\u001b[0m in \u001b[0;36m_tmp_session\u001b[0;34m(self, session, close)\u001b[0m\n\u001b[1;32m   1827\u001b[0m             \u001b[0;32mreturn\u001b[0m\u001b[0;34m\u001b[0m\u001b[0;34m\u001b[0m\u001b[0m\n\u001b[1;32m   1828\u001b[0m \u001b[0;34m\u001b[0m\u001b[0m\n\u001b[0;32m-> 1829\u001b[0;31m         \u001b[0ms\u001b[0m \u001b[0;34m=\u001b[0m \u001b[0mself\u001b[0m\u001b[0;34m.\u001b[0m\u001b[0m_ensure_session\u001b[0m\u001b[0;34m(\u001b[0m\u001b[0msession\u001b[0m\u001b[0;34m)\u001b[0m\u001b[0;34m\u001b[0m\u001b[0;34m\u001b[0m\u001b[0m\n\u001b[0m\u001b[1;32m   1830\u001b[0m         \u001b[0;32mif\u001b[0m \u001b[0ms\u001b[0m \u001b[0;32mand\u001b[0m \u001b[0mclose\u001b[0m\u001b[0;34m:\u001b[0m\u001b[0;34m\u001b[0m\u001b[0;34m\u001b[0m\u001b[0m\n\u001b[1;32m   1831\u001b[0m             \u001b[0;32mwith\u001b[0m \u001b[0ms\u001b[0m\u001b[0;34m:\u001b[0m\u001b[0;34m\u001b[0m\u001b[0;34m\u001b[0m\u001b[0m\n",
      "\u001b[0;32m~/opt/anaconda3/lib/python3.8/site-packages/pymongo/mongo_client.py\u001b[0m in \u001b[0;36m_ensure_session\u001b[0;34m(self, session)\u001b[0m\n\u001b[1;32m   1814\u001b[0m             \u001b[0;31m# Don't make implicit sessions causally consistent. Applications\u001b[0m\u001b[0;34m\u001b[0m\u001b[0;34m\u001b[0m\u001b[0;34m\u001b[0m\u001b[0m\n\u001b[1;32m   1815\u001b[0m             \u001b[0;31m# should always opt-in.\u001b[0m\u001b[0;34m\u001b[0m\u001b[0;34m\u001b[0m\u001b[0;34m\u001b[0m\u001b[0m\n\u001b[0;32m-> 1816\u001b[0;31m             \u001b[0;32mreturn\u001b[0m \u001b[0mself\u001b[0m\u001b[0;34m.\u001b[0m\u001b[0m__start_session\u001b[0m\u001b[0;34m(\u001b[0m\u001b[0;32mTrue\u001b[0m\u001b[0;34m,\u001b[0m \u001b[0mcausal_consistency\u001b[0m\u001b[0;34m=\u001b[0m\u001b[0;32mFalse\u001b[0m\u001b[0;34m)\u001b[0m\u001b[0;34m\u001b[0m\u001b[0;34m\u001b[0m\u001b[0m\n\u001b[0m\u001b[1;32m   1817\u001b[0m         \u001b[0;32mexcept\u001b[0m \u001b[0;34m(\u001b[0m\u001b[0mConfigurationError\u001b[0m\u001b[0;34m,\u001b[0m \u001b[0mInvalidOperation\u001b[0m\u001b[0;34m)\u001b[0m\u001b[0;34m:\u001b[0m\u001b[0;34m\u001b[0m\u001b[0;34m\u001b[0m\u001b[0m\n\u001b[1;32m   1818\u001b[0m             \u001b[0;31m# Sessions not supported, or multiple users authenticated.\u001b[0m\u001b[0;34m\u001b[0m\u001b[0;34m\u001b[0m\u001b[0;34m\u001b[0m\u001b[0m\n",
      "\u001b[0;32m~/opt/anaconda3/lib/python3.8/site-packages/pymongo/mongo_client.py\u001b[0m in \u001b[0;36m__start_session\u001b[0;34m(self, implicit, **kwargs)\u001b[0m\n\u001b[1;32m   1764\u001b[0m \u001b[0;34m\u001b[0m\u001b[0m\n\u001b[1;32m   1765\u001b[0m         \u001b[0;31m# Raises ConfigurationError if sessions are not supported.\u001b[0m\u001b[0;34m\u001b[0m\u001b[0;34m\u001b[0m\u001b[0;34m\u001b[0m\u001b[0m\n\u001b[0;32m-> 1766\u001b[0;31m         \u001b[0mserver_session\u001b[0m \u001b[0;34m=\u001b[0m \u001b[0mself\u001b[0m\u001b[0;34m.\u001b[0m\u001b[0m_get_server_session\u001b[0m\u001b[0;34m(\u001b[0m\u001b[0;34m)\u001b[0m\u001b[0;34m\u001b[0m\u001b[0;34m\u001b[0m\u001b[0m\n\u001b[0m\u001b[1;32m   1767\u001b[0m         \u001b[0mopts\u001b[0m \u001b[0;34m=\u001b[0m \u001b[0mclient_session\u001b[0m\u001b[0;34m.\u001b[0m\u001b[0mSessionOptions\u001b[0m\u001b[0;34m(\u001b[0m\u001b[0;34m**\u001b[0m\u001b[0mkwargs\u001b[0m\u001b[0;34m)\u001b[0m\u001b[0;34m\u001b[0m\u001b[0;34m\u001b[0m\u001b[0m\n\u001b[1;32m   1768\u001b[0m         return client_session.ClientSession(\n",
      "\u001b[0;32m~/opt/anaconda3/lib/python3.8/site-packages/pymongo/mongo_client.py\u001b[0m in \u001b[0;36m_get_server_session\u001b[0;34m(self)\u001b[0m\n\u001b[1;32m   1800\u001b[0m     \u001b[0;32mdef\u001b[0m \u001b[0m_get_server_session\u001b[0m\u001b[0;34m(\u001b[0m\u001b[0mself\u001b[0m\u001b[0;34m)\u001b[0m\u001b[0;34m:\u001b[0m\u001b[0;34m\u001b[0m\u001b[0;34m\u001b[0m\u001b[0m\n\u001b[1;32m   1801\u001b[0m         \u001b[0;34m\"\"\"Internal: start or resume a _ServerSession.\"\"\"\u001b[0m\u001b[0;34m\u001b[0m\u001b[0;34m\u001b[0m\u001b[0m\n\u001b[0;32m-> 1802\u001b[0;31m         \u001b[0;32mreturn\u001b[0m \u001b[0mself\u001b[0m\u001b[0;34m.\u001b[0m\u001b[0m_topology\u001b[0m\u001b[0;34m.\u001b[0m\u001b[0mget_server_session\u001b[0m\u001b[0;34m(\u001b[0m\u001b[0;34m)\u001b[0m\u001b[0;34m\u001b[0m\u001b[0;34m\u001b[0m\u001b[0m\n\u001b[0m\u001b[1;32m   1803\u001b[0m \u001b[0;34m\u001b[0m\u001b[0m\n\u001b[1;32m   1804\u001b[0m     \u001b[0;32mdef\u001b[0m \u001b[0m_return_server_session\u001b[0m\u001b[0;34m(\u001b[0m\u001b[0mself\u001b[0m\u001b[0;34m,\u001b[0m \u001b[0mserver_session\u001b[0m\u001b[0;34m,\u001b[0m \u001b[0mlock\u001b[0m\u001b[0;34m)\u001b[0m\u001b[0;34m:\u001b[0m\u001b[0;34m\u001b[0m\u001b[0;34m\u001b[0m\u001b[0m\n",
      "\u001b[0;32m~/opt/anaconda3/lib/python3.8/site-packages/pymongo/topology.py\u001b[0m in \u001b[0;36mget_server_session\u001b[0;34m(self)\u001b[0m\n\u001b[1;32m    483\u001b[0m                 \u001b[0;32mif\u001b[0m \u001b[0mself\u001b[0m\u001b[0;34m.\u001b[0m\u001b[0m_description\u001b[0m\u001b[0;34m.\u001b[0m\u001b[0mtopology_type\u001b[0m \u001b[0;34m==\u001b[0m \u001b[0mTOPOLOGY_TYPE\u001b[0m\u001b[0;34m.\u001b[0m\u001b[0mSingle\u001b[0m\u001b[0;34m:\u001b[0m\u001b[0;34m\u001b[0m\u001b[0;34m\u001b[0m\u001b[0m\n\u001b[1;32m    484\u001b[0m                     \u001b[0;32mif\u001b[0m \u001b[0;32mnot\u001b[0m \u001b[0mself\u001b[0m\u001b[0;34m.\u001b[0m\u001b[0m_description\u001b[0m\u001b[0;34m.\u001b[0m\u001b[0mhas_known_servers\u001b[0m\u001b[0;34m:\u001b[0m\u001b[0;34m\u001b[0m\u001b[0;34m\u001b[0m\u001b[0m\n\u001b[0;32m--> 485\u001b[0;31m                         self._select_servers_loop(\n\u001b[0m\u001b[1;32m    486\u001b[0m                             \u001b[0many_server_selector\u001b[0m\u001b[0;34m,\u001b[0m\u001b[0;34m\u001b[0m\u001b[0;34m\u001b[0m\u001b[0m\n\u001b[1;32m    487\u001b[0m                             \u001b[0mself\u001b[0m\u001b[0;34m.\u001b[0m\u001b[0m_settings\u001b[0m\u001b[0;34m.\u001b[0m\u001b[0mserver_selection_timeout\u001b[0m\u001b[0;34m,\u001b[0m\u001b[0;34m\u001b[0m\u001b[0;34m\u001b[0m\u001b[0m\n",
      "\u001b[0;32m~/opt/anaconda3/lib/python3.8/site-packages/pymongo/topology.py\u001b[0m in \u001b[0;36m_select_servers_loop\u001b[0;34m(self, selector, timeout, address)\u001b[0m\n\u001b[1;32m    213\u001b[0m             \u001b[0;31m# No suitable servers.\u001b[0m\u001b[0;34m\u001b[0m\u001b[0;34m\u001b[0m\u001b[0;34m\u001b[0m\u001b[0m\n\u001b[1;32m    214\u001b[0m             \u001b[0;32mif\u001b[0m \u001b[0mtimeout\u001b[0m \u001b[0;34m==\u001b[0m \u001b[0;36m0\u001b[0m \u001b[0;32mor\u001b[0m \u001b[0mnow\u001b[0m \u001b[0;34m>\u001b[0m \u001b[0mend_time\u001b[0m\u001b[0;34m:\u001b[0m\u001b[0;34m\u001b[0m\u001b[0;34m\u001b[0m\u001b[0m\n\u001b[0;32m--> 215\u001b[0;31m                 raise ServerSelectionTimeoutError(\n\u001b[0m\u001b[1;32m    216\u001b[0m                     \u001b[0;34m\"%s, Timeout: %ss, Topology Description: %r\"\u001b[0m \u001b[0;34m%\u001b[0m\u001b[0;34m\u001b[0m\u001b[0;34m\u001b[0m\u001b[0m\n\u001b[1;32m    217\u001b[0m                     (self._error_message(selector), timeout, self.description))\n",
      "\u001b[0;31mServerSelectionTimeoutError\u001b[0m: localhost:27017: [Errno 61] Connection refused, Timeout: 30s, Topology Description: <TopologyDescription id: 602f765295c7ccdbf304f897, topology_type: Single, servers: [<ServerDescription ('localhost', 27017) server_type: Unknown, rtt: None, error=AutoReconnect('localhost:27017: [Errno 61] Connection refused')>]>"
     ]
    }
   ],
   "source": [
    "Lucid_wavs.insert_one({'html': r.content}) # change name to collections"
   ]
  },
  {
   "cell_type": "markdown",
   "metadata": {},
   "source": [
    "# Step 4: Parse the hypertext with BeautifulSoup "
   ]
  },
  {
   "cell_type": "code",
   "execution_count": null,
   "metadata": {
    "ExecuteTime": {
     "end_time": "2020-11-25T00:41:45.774329Z",
     "start_time": "2020-11-25T00:41:45.772318Z"
    }
   },
   "outputs": [],
   "source": [
    "# This is the beautiful part of soup. Parsing the HTML into a python object is effortless."
   ]
  },
  {
   "cell_type": "code",
   "execution_count": 11,
   "metadata": {
    "ExecuteTime": {
     "end_time": "2021-02-19T08:29:07.296599Z",
     "start_time": "2021-02-19T08:29:07.291003Z"
    }
   },
   "outputs": [],
   "source": [
    "soup = BeautifulSoup(r.content, \"html\")"
   ]
  },
  {
   "cell_type": "code",
   "execution_count": 12,
   "metadata": {
    "ExecuteTime": {
     "end_time": "2021-02-19T08:29:08.534113Z",
     "start_time": "2021-02-19T08:29:08.530197Z"
    },
    "scrolled": true
   },
   "outputs": [
    {
     "name": "stdout",
     "output_type": "stream",
     "text": [
      "<!DOCTYPE html>\n",
      "<html lang=\"en\">\n",
      "<head>\n",
      "<meta charset=\"utf-8\"/>\n",
      "<title>Royalty free music and sound effects | Epidemic Sound</title>\n",
      "<meta content=\"width=device-width, initial-scale=1.0\" name=\"viewport\"/>\n",
      "<meta content=\"Struggle with music licensing for video, film or YouTube? Our library is of the highest quality, usable on all social platforms and royalty-free forever.\" data-react-helmet=\"true\" name=\"description\" property=\"og:description\"/>\n",
      "<meta content=\"Royalty free music and sound effects | Epidemic Sound\" data-react-helmet=\"true\" property=\"og:title\"/>\n",
      "<meta content=\"https://cdn.epidemicsound.com/legacy/14/images/epidemic-sound-logo-square.png\" property=\"og:image\"/>\n",
      "<meta content=\"qH-gnzrsIiBL48SfD-rptGgkmBJalUjvMEWK3TfMoak\" name=\"google-site-verification\"/>\n",
      "<link href=\"https://www.epidemicsound.com/my-music/playlists/6730674/\" rel=\"canonical\"/>\n",
      "<!-- CSS -->\n",
      "<!-- normalize.css needs to be loaded first due to specificity rules -->\n",
      "<link href=\"https://cdn.epidemicsound.com/legacy/14/css/normalize.css\" rel=\"stylesheet\"/>\n",
      "<link href=\"https://cdn.epidemicsound.com/player/20210218.23-22d8c12b94b9986ac9abfde05215431333c35960/mainapp.css\" rel=\"stylesheet\"/>\n",
      "<link href=\"https://cdn.epidemicsound.com/legacy/14/images/favicon.rebrand.png\" rel=\"icon\" type=\"image/png\"/>\n",
      "<link as=\"font\" crossorigin=\"anonymous\" href=\"https://cdn.epidemicsound.com/legacy/14/fonts/epidemic/Epidemic-Bold.woff\" rel=\"preload\" type=\"font/woff\"/>\n",
      "<link as=\"font\" crossorigin=\"anonymous\" href=\"https://cdn.epidemicsound.com/legacy/14/fonts/epidemic/Epidemic-Bold.woff2\" rel=\"preload\" type=\"font/woff2\"/>\n",
      "<link as=\"font\" crossorigin=\"anonymous\" href=\"https://cdn.epidemicsound.com/legacy/14/fonts/epidemic/Epidemic-SemiBold.woff\" rel=\"preload\" type=\"font/woff\"/>\n",
      "<link as=\"font\" crossorigin=\"anonymous\" href=\"https://cdn.epidemicsound.com/legacy/14/fonts/epidemic/Epidemic-SemiBold.woff2\" rel=\"preload\" type=\"font/woff2\"/>\n",
      "<link as=\"font\" crossorigin=\"anonymous\" href=\"https://cdn.epidemicsound.com/legacy/14/fonts/epidemic/Epidemic-Medium.woff\" rel=\"preload\" type=\"font/woff\"/>\n",
      "<link as=\"font\" crossorigin=\"anonymous\" href=\"https://cdn.epidemicsound.com/legacy/14/fonts/epidemic/Epidemic-Medium.woff2\" rel=\"preload\" type=\"font/woff2\"/>\n",
      "<style>\n",
      "    /* woff */\n",
      "    @font-face {\n",
      "        font-family: 'Epidemic';\n",
      "        font-weight: 500;\n",
      "        src: url('https://cdn.epidemicsound.com/legacy/14/fonts/epidemic/Epidemic-Medium.woff') format('woff');\n",
      "    }\n",
      "\n",
      "    @font-face {\n",
      "        font-family: 'Epidemic';\n",
      "        font-weight: 600;\n",
      "        src: url('https://cdn.epidemicsound.com/legacy/14/fonts/epidemic/Epidemic-SemiBold.woff') format('woff');\n",
      "    }\n",
      "\n",
      "    @font-face {\n",
      "        font-family: 'Epidemic';\n",
      "        font-weight: 700;\n",
      "        src: url('https://cdn.epidemicsound.com/legacy/14/fonts/epidemic/Epidemic-Bold.woff') format('woff');\n",
      "    }\n",
      "\n",
      "    /* woff2 */\n",
      "    @font-face {\n",
      "        font-family: 'Epidemic';\n",
      "        font-weight: 500;\n",
      "        src: url('https://cdn.epidemicsound.com/legacy/14/fonts/epidemic/Epidemic-Medium.woff2') format('woff2');\n",
      "    }\n",
      "\n",
      "    @font-face {\n",
      "        font-family: 'Epidemic';\n",
      "        font-weight: 600;\n",
      "        src: url('https://cdn.epidemicsound.com/legacy/14/fonts/epidemic/Epidemic-SemiBold.woff2') format('woff2');\n",
      "    }\n",
      "\n",
      "    @font-face {\n",
      "        font-family: 'Epidemic';\n",
      "        font-weight: 700;\n",
      "        src: url('https://cdn.epidemicsound.com/legacy/14/fonts/epidemic/Epidemic-Bold.woff2') format('woff2');\n",
      "    }\n",
      "</style>\n",
      "<!-- Start Visual Website Optimizer Asynchronous Code -->\n",
      "<!-- End Visual Website Optimizer Asynchronous Code -->\n",
      "<!-- Start VWO Smartcode -->\n",
      "<script src=\"https://dev.visualwebsiteoptimizer.com/lib/341125.js\"></script>\n",
      "<!-- End VWO Smartcode -->\n",
      "<!-- Google Tag Manager -->\n",
      "<script>\n",
      "            window.dataLayer = window.dataLayer || [];\n",
      "            window._fbq = window._fbq || [];\n",
      "        </script>\n",
      "<!-- uncomment for local testing gtm -->\n",
      "<!--<noscript>\n",
      "            <iframe src=\"//www.googletagmanager.com/ns.html?id=GTM-K3LQPX\"\n",
      "            height=\"0\" width=\"0\" style=\"display:none;visibility:hidden\"></iframe>\n",
      "        </noscript>-->\n",
      "<script>(function(w,d,s,l,i){w[l]=w[l]||[];w[l].push({'gtm.start':\n",
      "        new Date().getTime(),event:'gtm.js'});var f=d.getElementsByTagName(s)[0],\n",
      "        j=d.createElement(s),dl=l!='dataLayer'?'&l='+l:'';j.async=true;j.src=\n",
      "        'https://www.googletagmanager.com/gtm.js?id='+i+dl;f.parentNode.insertBefore(j,f);\n",
      "        })(window,document,'script','dataLayer','GTM-K3LQPX');</script>\n",
      "<!-- End Google Tag Manager -->\n",
      "<!-- Start CookiePro: Enable AB-testing for CookiePro consent banner -->\n",
      "<!-- Tell GTM to exclude the Cookiepro script and load other scripts as normal -->\n",
      "<script>window.dataLayer.push({'event': 'DoNotLoadOneTrust'})</script>\n",
      "<!-- End Cookiepro -->\n",
      "<script type=\"application/ld+json\">\n",
      "            {\"@context\": \"http://schema.org\",\n",
      "            \"@type\": \"Organization\",\n",
      "            \"name\": \"Epidemic Sound\",\n",
      "            \"url\": \"https://www.epidemicsound.com\",\n",
      "            \"logo\": \"https://cdn.epidemicsound.com/legacy/14/images/epidemic-sound-logo-square.png\",\n",
      "            \"address\":\n",
      "                [\n",
      "                    {\n",
      "                        \"@type\": \"PostalAddress\",\n",
      "                        \"addressLocality\": \"Stockholm\",\n",
      "                        \"addressRegion\": \"Sweden\",\n",
      "                        \"postalCode\": \"118 27\",\n",
      "                        \"streetAddress\": \"Västgötagatan 2\"\n",
      "                    },\n",
      "                    {\n",
      "                        \"@type\": \"PostalAddress\",\n",
      "                        \"addressLocality\": \"Santa Monica\",\n",
      "                        \"addressRegion\": \"USA\",\n",
      "                        \"postalCode\": \"CA 90404\",\n",
      "                        \"streetAddress\": \"2040 Broadway\"\n",
      "                    },\n",
      "                    {\n",
      "                        \"@type\": \"PostalAddress\",\n",
      "                        \"addressLocality\": \"New York\",\n",
      "                        \"addressRegion\": \"USA\",\n",
      "                        \"postalCode\": \"NY 10013\",\n",
      "                        \"streetAddress\": \"79 Walker Street\"\n",
      "                    },\n",
      "              {\n",
      "                        \"@type\": \"PostalAddress\",\n",
      "                        \"addressLocality\": \"Hamburg\",\n",
      "                        \"addressRegion\": \"Germany\",\n",
      "                        \"postalCode\": \"20357 Hamburg\",\n",
      "                        \"streetAddress\": \"Schulterblatt 58\"\n",
      "                    },\n",
      "              {\n",
      "                        \"@type\": \"PostalAddress\",\n",
      "                        \"addressLocality\": \"Amsterdam\",\n",
      "                        \"addressRegion\": \"Netherlands\",\n",
      "                        \"postalCode\": \"1016XG Amsterdam\",\n",
      "                        \"streetAddress\": \"Passeerdersgracht 19A\"\n",
      "                    },\n",
      "              {\n",
      "                        \"@type\": \"PostalAddress\",\n",
      "                        \"addressLocality\": \"Sydney\",\n",
      "                        \"addressRegion\": \"Australia\",\n",
      "                        \"postalCode\": \"Sydney 2000\",\n",
      "                        \"streetAddress\": \"333 George St\"\n",
      "                    },\n",
      "              {\n",
      "                        \"@type\": \"PostalAddress\",\n",
      "                        \"addressLocality\": \"Madrid\",\n",
      "                        \"addressRegion\": \"Spain\",\n",
      "                        \"postalCode\": \"28010 Madrid\",\n",
      "                        \"streetAddress\": \"Eloy Gonzalo 27\"\n",
      "                    }\n",
      "                ],\n",
      "            \"image\": \"https://cdn.epidemicsound.com/legacy/14/images/epidemic-sound-logo-square.png\",\n",
      "            \"foundingDate\": \"2009\",\n",
      "            \"founders\": [\n",
      "             {\n",
      "             \"@type\": \"Person\",\n",
      "             \"name\": \"David Stenmarck\"\n",
      "             },\n",
      "             {\n",
      "             \"@type\": \"Person\",\n",
      "             \"name\": \"Oscar Höglund\"\n",
      "             },\n",
      "             {\n",
      "             \"@type\": \"Person\",\n",
      "             \"name\": \"Jan Zachrisson\"\n",
      "             },\n",
      "             {\n",
      "             \"@type\": \"Person\",\n",
      "             \"name\": \"Hjalmar Winbladh\"\n",
      "             },\n",
      "             {\n",
      "             \"@type\": \"Person\",\n",
      "             \"name\": \"Peer Åström\"\n",
      "             } ],\n",
      "            \"email\": \"hello@epidemicsound.com \",\n",
      "            \"description\": \"At 30,000+ professionally produced tracks, Epidemic Soundís carefully curated music catalog is tailored to storytellers, streaming services, and in-store spaces. Broadcasters, production companies, and YouTubers use our tracks to tell their stories.\",\n",
      "             \"potentialAction\": {\n",
      "               \"@type\": \"SearchAction\",\n",
      "               \"target\": \"https://www.epidemicsound.com/search/?term={search_term_string}\",\n",
      "               \"query-input\": \"required name=search_term_string\"\n",
      "             }\n",
      "            ,\"sameAs\":[\"https://www.facebook.com/EpidemicSound/\",\n",
      "            \"https://twitter.com/epidemicsound\",\n",
      "            \"https://open.spotify.com/user/epidemicsound?si=wJ4g9W5mQaWkoECTLWo0yw\",\n",
      "            \"https://www.instagram.com/epidemicsound/\",\n",
      "            \"https://soundcloud.com/epidemicsound\",\n",
      "            \"https://www.youtube.com/channel/UC_sOjEnngNB2y_AEaDd2cSA\",\n",
      "            \"https://www.linkedin.com/company/epidemic-sound/\"]}\n",
      "        </script>\n",
      "<script>\n",
      "        // This is a function to redirect old hash urls to without hash\n",
      "        // so: /#/browse -> /browse\n",
      "            (function() {\n",
      "                var hashLocation = window.location.href.indexOf('#');\n",
      "                var hashWithoutHash = window.location.hash.substr(1);\n",
      "                var hostname = window.location.href.substr(0, hashLocation);\n",
      "\n",
      "                if (window.location.origin+'/' === hostname) {\n",
      "                    window.location.href = window.location.origin + hashWithoutHash;\n",
      "                }\n",
      "            })();\n",
      "        </script>\n",
      "<script src=\"https://cdn.epidemicsound.com/legacy/14/js/es_track.js\"></script>\n",
      "<script type=\"text/javascript\">\n",
      "            window.__INITDATA = {\"user\": {\"userName\": \"6b0250bf2a704010af5572b9dec5e07a\", \"isAnonymous\": true, \"countryName\": \"United States of America\", \"countryAlpha2\": \"US\", \"euCountry\": false, \"currency\": \"USD\", \"vatRate\": 0.0, \"vatValid\": false, \"addressValid\": false, \"message\": {}, \"activeProjectId\": null}, \"config\": {\"MEDIA_URL\": \"https://cdn.epidemicsound.com/legacy/14/\", \"SENTRY_DSN\": \"https://b6756e6e0de64511aaf4a2f122f3b91a@sentry.io/270052\", \"CAPTCHA_CLIENT_KEY\": \"6Lc_7J8UAAAAABS54JIJdevGCaPrmwz_df-No3rk\", \"AGGRESSIVE_CAPTCHA_CLIENT_KEY\": \"6LfZVL4ZAAAAACYhfK3ymOLmlP-oGP3mslflKPxY\", \"FACEBOOK_CLIENT_ID\": \"322917571624608\", \"FACEBOOK_CLIENT_TOKEN\": \"bd75306a808d8156a0c8d96b75d188fe\", \"FACEBOOK_GRAPHAPI_BASEURL\": \"https://graph.facebook.com/v8.0\"}};\n",
      "            window.__RECURLY_PUBLIC_KEY = \"ewr1\\u002DYYr0JsQKITjLmeqHAb7L0U\";\n",
      "            window.__MEDIA_URL = 'https://cdn.epidemicsound.com/legacy/14/';\n",
      "            window.__EXPERIMENTS = {\"clickToPlayTrack\": 0, \"multi-artist-homepage\": null, \"pricing-features-rerun\": 0, \"pricing-section-toggle\": null, \"removeCartIcon\": 0};\n",
      "            window.__ERROR_CODE = null;\n",
      "        </script>\n",
      "</head>\n",
      "<body>\n",
      "<!-- Google Tag Manager (noscript) -->\n",
      "<noscript>\n",
      "<iframe height=\"0\" src=\"https://www.googletagmanager.com/ns.html?id=GTM-K3LQPX\" style=\"display:none;visibility:hidden\" width=\"0\">\n",
      "</iframe>\n",
      "</noscript>\n",
      "<!-- End Google Tag Manager (noscript) -->\n",
      "<div id=\"mainappRoot\"></div>\n",
      "<script id=\"bundle\" src=\"https://cdn.epidemicsound.com/player/20210218.23-22d8c12b94b9986ac9abfde05215431333c35960/mainapp.bundle.js\"></script>\n",
      "</body>\n",
      "</html>\n"
     ]
    }
   ],
   "source": [
    "print(soup)"
   ]
  },
  {
   "cell_type": "code",
   "execution_count": 13,
   "metadata": {
    "ExecuteTime": {
     "end_time": "2021-02-19T08:29:16.973824Z",
     "start_time": "2021-02-19T08:29:16.970280Z"
    }
   },
   "outputs": [
    {
     "name": "stdout",
     "output_type": "stream",
     "text": [
      "<!DOCTYPE html>\n",
      "<html lang=\"en\">\n",
      " <head>\n",
      "  <meta charset=\"utf-8\"/>\n",
      "  <title>\n",
      "   Royalty free music and sound effects | Epidemic Sound\n",
      "  </title>\n",
      "  <meta content=\"width=device-width, initial-scale=1.0\" name=\"viewport\"/>\n",
      "  <meta content=\"Struggle with music licensing for video, film or YouTube? Our library is of the highest quality, usable on all social platforms and royalty-free forever.\" data-react-helmet=\"true\" name=\"description\" property=\"og:description\"/>\n",
      "  <meta content=\"Royalty free music and sound effects | Epidemic Sound\" data-react-helmet=\"true\" property=\"og:title\"/>\n",
      "  <meta content=\"https://cdn.epidemicsound.com/legacy/14/images/epidemic-sound-logo-square.png\" property=\"og:image\"/>\n",
      "  <meta content=\"qH-gnzrsIiBL48SfD-rptGgkmBJalUjvMEWK3TfMoak\" name=\"google-site-verification\"/>\n",
      "  <link href=\"https://www.epidemicsound.com/my-music/playlists/6730674/\" rel=\"canonical\"/>\n",
      "  <!-- CSS -->\n",
      "  <!-- normalize.css needs to be loaded first due to specificity rules -->\n",
      "  <link href=\"https://cdn.epidemicsound.com/legacy/14/css/normalize.css\" rel=\"stylesheet\"/>\n",
      "  <link href=\"https://cdn.epidemicsound.com/player/20210218.23-22d8c12b94b9986ac9abfde05215431333c35960/mainapp.css\" rel=\"stylesheet\"/>\n",
      "  <link href=\"https://cdn.epidemicsound.com/legacy/14/images/favicon.rebrand.png\" rel=\"icon\" type=\"image/png\"/>\n",
      "  <link as=\"font\" crossorigin=\"anonymous\" href=\"https://cdn.epidemicsound.com/legacy/14/fonts/epidemic/Epidemic-Bold.woff\" rel=\"preload\" type=\"font/woff\"/>\n",
      "  <link as=\"font\" crossorigin=\"anonymous\" href=\"https://cdn.epidemicsound.com/legacy/14/fonts/epidemic/Epidemic-Bold.woff2\" rel=\"preload\" type=\"font/woff2\"/>\n",
      "  <link as=\"font\" crossorigin=\"anonymous\" href=\"https://cdn.epidemicsound.com/legacy/14/fonts/epidemic/Epidemic-SemiBold.woff\" rel=\"preload\" type=\"font/woff\"/>\n",
      "  <link as=\"font\" crossorigin=\"anonymous\" href=\"https://cdn.epidemicsound.com/legacy/14/fonts/epidemic/Epidemic-SemiBold.woff2\" rel=\"preload\" type=\"font/woff2\"/>\n",
      "  <link as=\"font\" crossorigin=\"anonymous\" href=\"https://cdn.epidemicsound.com/legacy/14/fonts/epidemic/Epidemic-Medium.woff\" rel=\"preload\" type=\"font/woff\"/>\n",
      "  <link as=\"font\" crossorigin=\"anonymous\" href=\"https://cdn.epidemicsound.com/legacy/14/fonts/epidemic/Epidemic-Medium.woff2\" rel=\"preload\" type=\"font/woff2\"/>\n",
      "  <style>\n",
      "   /* woff */\n",
      "    @font-face {\n",
      "        font-family: 'Epidemic';\n",
      "        font-weight: 500;\n",
      "        src: url('https://cdn.epidemicsound.com/legacy/14/fonts/epidemic/Epidemic-Medium.woff') format('woff');\n",
      "    }\n",
      "\n",
      "    @font-face {\n",
      "        font-family: 'Epidemic';\n",
      "        font-weight: 600;\n",
      "        src: url('https://cdn.epidemicsound.com/legacy/14/fonts/epidemic/Epidemic-SemiBold.woff') format('woff');\n",
      "    }\n",
      "\n",
      "    @font-face {\n",
      "        font-family: 'Epidemic';\n",
      "        font-weight: 700;\n",
      "        src: url('https://cdn.epidemicsound.com/legacy/14/fonts/epidemic/Epidemic-Bold.woff') format('woff');\n",
      "    }\n",
      "\n",
      "    /* woff2 */\n",
      "    @font-face {\n",
      "        font-family: 'Epidemic';\n",
      "        font-weight: 500;\n",
      "        src: url('https://cdn.epidemicsound.com/legacy/14/fonts/epidemic/Epidemic-Medium.woff2') format('woff2');\n",
      "    }\n",
      "\n",
      "    @font-face {\n",
      "        font-family: 'Epidemic';\n",
      "        font-weight: 600;\n",
      "        src: url('https://cdn.epidemicsound.com/legacy/14/fonts/epidemic/Epidemic-SemiBold.woff2') format('woff2');\n",
      "    }\n",
      "\n",
      "    @font-face {\n",
      "        font-family: 'Epidemic';\n",
      "        font-weight: 700;\n",
      "        src: url('https://cdn.epidemicsound.com/legacy/14/fonts/epidemic/Epidemic-Bold.woff2') format('woff2');\n",
      "    }\n",
      "  </style>\n",
      "  <!-- Start Visual Website Optimizer Asynchronous Code -->\n",
      "  <!-- End Visual Website Optimizer Asynchronous Code -->\n",
      "  <!-- Start VWO Smartcode -->\n",
      "  <script src=\"https://dev.visualwebsiteoptimizer.com/lib/341125.js\">\n",
      "  </script>\n",
      "  <!-- End VWO Smartcode -->\n",
      "  <!-- Google Tag Manager -->\n",
      "  <script>\n",
      "   window.dataLayer = window.dataLayer || [];\n",
      "            window._fbq = window._fbq || [];\n",
      "  </script>\n",
      "  <!-- uncomment for local testing gtm -->\n",
      "  <!--<noscript>\n",
      "            <iframe src=\"//www.googletagmanager.com/ns.html?id=GTM-K3LQPX\"\n",
      "            height=\"0\" width=\"0\" style=\"display:none;visibility:hidden\"></iframe>\n",
      "        </noscript>-->\n",
      "  <script>\n",
      "   (function(w,d,s,l,i){w[l]=w[l]||[];w[l].push({'gtm.start':\n",
      "        new Date().getTime(),event:'gtm.js'});var f=d.getElementsByTagName(s)[0],\n",
      "        j=d.createElement(s),dl=l!='dataLayer'?'&l='+l:'';j.async=true;j.src=\n",
      "        'https://www.googletagmanager.com/gtm.js?id='+i+dl;f.parentNode.insertBefore(j,f);\n",
      "        })(window,document,'script','dataLayer','GTM-K3LQPX');\n",
      "  </script>\n",
      "  <!-- End Google Tag Manager -->\n",
      "  <!-- Start CookiePro: Enable AB-testing for CookiePro consent banner -->\n",
      "  <!-- Tell GTM to exclude the Cookiepro script and load other scripts as normal -->\n",
      "  <script>\n",
      "   window.dataLayer.push({'event': 'DoNotLoadOneTrust'})\n",
      "  </script>\n",
      "  <!-- End Cookiepro -->\n",
      "  <script type=\"application/ld+json\">\n",
      "   {\"@context\": \"http://schema.org\",\n",
      "            \"@type\": \"Organization\",\n",
      "            \"name\": \"Epidemic Sound\",\n",
      "            \"url\": \"https://www.epidemicsound.com\",\n",
      "            \"logo\": \"https://cdn.epidemicsound.com/legacy/14/images/epidemic-sound-logo-square.png\",\n",
      "            \"address\":\n",
      "                [\n",
      "                    {\n",
      "                        \"@type\": \"PostalAddress\",\n",
      "                        \"addressLocality\": \"Stockholm\",\n",
      "                        \"addressRegion\": \"Sweden\",\n",
      "                        \"postalCode\": \"118 27\",\n",
      "                        \"streetAddress\": \"Västgötagatan 2\"\n",
      "                    },\n",
      "                    {\n",
      "                        \"@type\": \"PostalAddress\",\n",
      "                        \"addressLocality\": \"Santa Monica\",\n",
      "                        \"addressRegion\": \"USA\",\n",
      "                        \"postalCode\": \"CA 90404\",\n",
      "                        \"streetAddress\": \"2040 Broadway\"\n",
      "                    },\n",
      "                    {\n",
      "                        \"@type\": \"PostalAddress\",\n",
      "                        \"addressLocality\": \"New York\",\n",
      "                        \"addressRegion\": \"USA\",\n",
      "                        \"postalCode\": \"NY 10013\",\n",
      "                        \"streetAddress\": \"79 Walker Street\"\n",
      "                    },\n",
      "              {\n",
      "                        \"@type\": \"PostalAddress\",\n",
      "                        \"addressLocality\": \"Hamburg\",\n",
      "                        \"addressRegion\": \"Germany\",\n",
      "                        \"postalCode\": \"20357 Hamburg\",\n",
      "                        \"streetAddress\": \"Schulterblatt 58\"\n",
      "                    },\n",
      "              {\n",
      "                        \"@type\": \"PostalAddress\",\n",
      "                        \"addressLocality\": \"Amsterdam\",\n",
      "                        \"addressRegion\": \"Netherlands\",\n",
      "                        \"postalCode\": \"1016XG Amsterdam\",\n",
      "                        \"streetAddress\": \"Passeerdersgracht 19A\"\n",
      "                    },\n",
      "              {\n",
      "                        \"@type\": \"PostalAddress\",\n",
      "                        \"addressLocality\": \"Sydney\",\n",
      "                        \"addressRegion\": \"Australia\",\n",
      "                        \"postalCode\": \"Sydney 2000\",\n",
      "                        \"streetAddress\": \"333 George St\"\n",
      "                    },\n",
      "              {\n",
      "                        \"@type\": \"PostalAddress\",\n",
      "                        \"addressLocality\": \"Madrid\",\n",
      "                        \"addressRegion\": \"Spain\",\n",
      "                        \"postalCode\": \"28010 Madrid\",\n",
      "                        \"streetAddress\": \"Eloy Gonzalo 27\"\n",
      "                    }\n",
      "                ],\n",
      "            \"image\": \"https://cdn.epidemicsound.com/legacy/14/images/epidemic-sound-logo-square.png\",\n",
      "            \"foundingDate\": \"2009\",\n",
      "            \"founders\": [\n",
      "             {\n",
      "             \"@type\": \"Person\",\n",
      "             \"name\": \"David Stenmarck\"\n",
      "             },\n",
      "             {\n",
      "             \"@type\": \"Person\",\n",
      "             \"name\": \"Oscar Höglund\"\n",
      "             },\n",
      "             {\n",
      "             \"@type\": \"Person\",\n",
      "             \"name\": \"Jan Zachrisson\"\n",
      "             },\n",
      "             {\n",
      "             \"@type\": \"Person\",\n",
      "             \"name\": \"Hjalmar Winbladh\"\n",
      "             },\n",
      "             {\n",
      "             \"@type\": \"Person\",\n",
      "             \"name\": \"Peer Åström\"\n",
      "             } ],\n",
      "            \"email\": \"hello@epidemicsound.com \",\n",
      "            \"description\": \"At 30,000+ professionally produced tracks, Epidemic Soundís carefully curated music catalog is tailored to storytellers, streaming services, and in-store spaces. Broadcasters, production companies, and YouTubers use our tracks to tell their stories.\",\n",
      "             \"potentialAction\": {\n",
      "               \"@type\": \"SearchAction\",\n",
      "               \"target\": \"https://www.epidemicsound.com/search/?term={search_term_string}\",\n",
      "               \"query-input\": \"required name=search_term_string\"\n",
      "             }\n",
      "            ,\"sameAs\":[\"https://www.facebook.com/EpidemicSound/\",\n",
      "            \"https://twitter.com/epidemicsound\",\n",
      "            \"https://open.spotify.com/user/epidemicsound?si=wJ4g9W5mQaWkoECTLWo0yw\",\n",
      "            \"https://www.instagram.com/epidemicsound/\",\n",
      "            \"https://soundcloud.com/epidemicsound\",\n",
      "            \"https://www.youtube.com/channel/UC_sOjEnngNB2y_AEaDd2cSA\",\n",
      "            \"https://www.linkedin.com/company/epidemic-sound/\"]}\n",
      "  </script>\n",
      "  <script>\n",
      "   // This is a function to redirect old hash urls to without hash\n",
      "        // so: /#/browse -> /browse\n",
      "            (function() {\n",
      "                var hashLocation = window.location.href.indexOf('#');\n",
      "                var hashWithoutHash = window.location.hash.substr(1);\n",
      "                var hostname = window.location.href.substr(0, hashLocation);\n",
      "\n",
      "                if (window.location.origin+'/' === hostname) {\n",
      "                    window.location.href = window.location.origin + hashWithoutHash;\n",
      "                }\n",
      "            })();\n",
      "  </script>\n",
      "  <script src=\"https://cdn.epidemicsound.com/legacy/14/js/es_track.js\">\n",
      "  </script>\n",
      "  <script type=\"text/javascript\">\n",
      "   window.__INITDATA = {\"user\": {\"userName\": \"6b0250bf2a704010af5572b9dec5e07a\", \"isAnonymous\": true, \"countryName\": \"United States of America\", \"countryAlpha2\": \"US\", \"euCountry\": false, \"currency\": \"USD\", \"vatRate\": 0.0, \"vatValid\": false, \"addressValid\": false, \"message\": {}, \"activeProjectId\": null}, \"config\": {\"MEDIA_URL\": \"https://cdn.epidemicsound.com/legacy/14/\", \"SENTRY_DSN\": \"https://b6756e6e0de64511aaf4a2f122f3b91a@sentry.io/270052\", \"CAPTCHA_CLIENT_KEY\": \"6Lc_7J8UAAAAABS54JIJdevGCaPrmwz_df-No3rk\", \"AGGRESSIVE_CAPTCHA_CLIENT_KEY\": \"6LfZVL4ZAAAAACYhfK3ymOLmlP-oGP3mslflKPxY\", \"FACEBOOK_CLIENT_ID\": \"322917571624608\", \"FACEBOOK_CLIENT_TOKEN\": \"bd75306a808d8156a0c8d96b75d188fe\", \"FACEBOOK_GRAPHAPI_BASEURL\": \"https://graph.facebook.com/v8.0\"}};\n",
      "            window.__RECURLY_PUBLIC_KEY = \"ewr1\\u002DYYr0JsQKITjLmeqHAb7L0U\";\n",
      "            window.__MEDIA_URL = 'https://cdn.epidemicsound.com/legacy/14/';\n",
      "            window.__EXPERIMENTS = {\"clickToPlayTrack\": 0, \"multi-artist-homepage\": null, \"pricing-features-rerun\": 0, \"pricing-section-toggle\": null, \"removeCartIcon\": 0};\n",
      "            window.__ERROR_CODE = null;\n",
      "  </script>\n",
      " </head>\n",
      " <body>\n",
      "  <!-- Google Tag Manager (noscript) -->\n",
      "  <noscript>\n",
      "   <iframe height=\"0\" src=\"https://www.googletagmanager.com/ns.html?id=GTM-K3LQPX\" style=\"display:none;visibility:hidden\" width=\"0\">\n",
      "   </iframe>\n",
      "  </noscript>\n",
      "  <!-- End Google Tag Manager (noscript) -->\n",
      "  <div id=\"mainappRoot\">\n",
      "  </div>\n",
      "  <script id=\"bundle\" src=\"https://cdn.epidemicsound.com/player/20210218.23-22d8c12b94b9986ac9abfde05215431333c35960/mainapp.bundle.js\">\n",
      "  </script>\n",
      " </body>\n",
      "</html>\n"
     ]
    }
   ],
   "source": [
    "print(soup.prettify())"
   ]
  },
  {
   "cell_type": "code",
   "execution_count": 14,
   "metadata": {
    "ExecuteTime": {
     "end_time": "2021-02-19T08:29:21.156763Z",
     "start_time": "2021-02-19T08:29:21.154094Z"
    }
   },
   "outputs": [
    {
     "name": "stdout",
     "output_type": "stream",
     "text": [
      "<title>Royalty free music and sound effects | Epidemic Sound</title>\n"
     ]
    }
   ],
   "source": [
    "print(soup.title)"
   ]
  },
  {
   "cell_type": "markdown",
   "metadata": {},
   "source": [
    "# Step 5: Navigate the data to pull out the table information\n",
    "\n",
    "Recall the structure of the table we are looking for:"
   ]
  },
  {
   "cell_type": "code",
   "execution_count": 15,
   "metadata": {
    "ExecuteTime": {
     "end_time": "2021-02-19T08:31:25.782680Z",
     "start_time": "2021-02-19T08:31:25.771921Z"
    }
   },
   "outputs": [
    {
     "ename": "AttributeError",
     "evalue": "'NoneType' object has no attribute 'find'",
     "output_type": "error",
     "traceback": [
      "\u001b[0;31m---------------------------------------------------------------------------\u001b[0m",
      "\u001b[0;31mAttributeError\u001b[0m                            Traceback (most recent call last)",
      "\u001b[0;32m<ipython-input-15-b374574976e7>\u001b[0m in \u001b[0;36m<module>\u001b[0;34m\u001b[0m\n\u001b[1;32m      1\u001b[0m \u001b[0mdiv\u001b[0m \u001b[0;34m=\u001b[0m \u001b[0msoup\u001b[0m\u001b[0;34m.\u001b[0m\u001b[0mfind\u001b[0m\u001b[0;34m(\u001b[0m\u001b[0;34m\"div\"\u001b[0m\u001b[0;34m,\u001b[0m \u001b[0;34m{\u001b[0m\u001b[0;34m\"class\"\u001b[0m\u001b[0;34m:\u001b[0m \u001b[0;34m\"database\"\u001b[0m\u001b[0;34m}\u001b[0m\u001b[0;34m)\u001b[0m\u001b[0;34m\u001b[0m\u001b[0;34m\u001b[0m\u001b[0m\n\u001b[1;32m      2\u001b[0m \u001b[0;34m\u001b[0m\u001b[0m\n\u001b[0;32m----> 3\u001b[0;31m \u001b[0mtable\u001b[0m \u001b[0;34m=\u001b[0m \u001b[0mdiv\u001b[0m\u001b[0;34m.\u001b[0m\u001b[0mfind\u001b[0m\u001b[0;34m(\u001b[0m\u001b[0;34m\"table\"\u001b[0m\u001b[0;34m)\u001b[0m\u001b[0;34m\u001b[0m\u001b[0;34m\u001b[0m\u001b[0m\n\u001b[0m",
      "\u001b[0;31mAttributeError\u001b[0m: 'NoneType' object has no attribute 'find'"
     ]
    }
   ],
   "source": [
    "div = soup.find(\"div\", {\"class\": \"database\"})\n",
    "\n",
    "table = div.find(\"table\")"
   ]
  },
  {
   "cell_type": "code",
   "execution_count": 36,
   "metadata": {
    "ExecuteTime": {
     "end_time": "2020-11-30T21:22:13.346968Z",
     "start_time": "2020-11-30T21:22:13.343608Z"
    }
   },
   "outputs": [],
   "source": [
    "# This returns an iterator over the rows in the table\n",
    "rows = table.find_all(\"tr\")"
   ]
  },
  {
   "cell_type": "code",
   "execution_count": 37,
   "metadata": {
    "ExecuteTime": {
     "end_time": "2020-11-30T21:22:14.412940Z",
     "start_time": "2020-11-30T21:22:14.406459Z"
    }
   },
   "outputs": [],
   "source": [
    "import re \n",
    "\n",
    "links = [a['href'] for a in soup.find_all('a',href=re.compile('/science.*\\.(mp3|wav|ogg|wma)'))]"
   ]
  },
  {
   "cell_type": "code",
   "execution_count": 38,
   "metadata": {
    "ExecuteTime": {
     "end_time": "2020-11-30T21:22:15.618400Z",
     "start_time": "2020-11-30T21:22:15.615556Z"
    }
   },
   "outputs": [],
   "source": [
    "from pydub import AudioSegment\n",
    "from pydub.playback import play"
   ]
  },
  {
   "cell_type": "markdown",
   "metadata": {},
   "source": [
    "# Scrape Audio:\n",
    "\n",
    "* First create the directory for the class in the data directory.\n",
    "\n",
    "* Second rename with open(f'data/northern right whale/rightWhale{idx}.wav', 'wb') to the just created path\n",
    "\n",
    "* The data flow is first download the raw audio data here and them concatenate the audio into the training dataset directory into 30 seconds chucks. "
   ]
  },
  {
   "cell_type": "code",
   "execution_count": 39,
   "metadata": {
    "ExecuteTime": {
     "end_time": "2020-11-30T21:23:10.490482Z",
     "start_time": "2020-11-30T21:23:10.486879Z"
    }
   },
   "outputs": [],
   "source": [
    "def download_audio_and_save(lst_of_urls):\n",
    "    \n",
    "    for idx, url in enumerate(lst_of_urls):\n",
    "        doc = requests.get(f'https://whoicf2.whoi.edu{url}')\n",
    "\n",
    "        with open(f'data/short finned pilot whale/pilotWhale{idx}.wav', 'wb') as f:\n",
    "            f.write(doc.content)\n",
    "            print(f\"Saved audio file{idx}\")"
   ]
  },
  {
   "cell_type": "code",
   "execution_count": 40,
   "metadata": {
    "ExecuteTime": {
     "end_time": "2020-11-30T21:31:20.055859Z",
     "start_time": "2020-11-30T21:23:11.959649Z"
    }
   },
   "outputs": [
    {
     "name": "stdout",
     "output_type": "stream",
     "text": [
      "Saved audio file0\n",
      "Saved audio file1\n",
      "Saved audio file2\n",
      "Saved audio file3\n",
      "Saved audio file4\n",
      "Saved audio file5\n",
      "Saved audio file6\n",
      "Saved audio file7\n",
      "Saved audio file8\n",
      "Saved audio file9\n",
      "Saved audio file10\n",
      "Saved audio file11\n",
      "Saved audio file12\n",
      "Saved audio file13\n",
      "Saved audio file14\n",
      "Saved audio file15\n",
      "Saved audio file16\n",
      "Saved audio file17\n",
      "Saved audio file18\n",
      "Saved audio file19\n",
      "Saved audio file20\n",
      "Saved audio file21\n",
      "Saved audio file22\n",
      "Saved audio file23\n",
      "Saved audio file24\n",
      "Saved audio file25\n",
      "Saved audio file26\n",
      "Saved audio file27\n",
      "Saved audio file28\n",
      "Saved audio file29\n",
      "Saved audio file30\n",
      "Saved audio file31\n",
      "Saved audio file32\n",
      "Saved audio file33\n",
      "Saved audio file34\n",
      "Saved audio file35\n",
      "Saved audio file36\n",
      "Saved audio file37\n",
      "Saved audio file38\n",
      "Saved audio file39\n",
      "Saved audio file40\n",
      "Saved audio file41\n",
      "Saved audio file42\n",
      "Saved audio file43\n",
      "Saved audio file44\n",
      "Saved audio file45\n",
      "Saved audio file46\n",
      "Saved audio file47\n",
      "Saved audio file48\n",
      "Saved audio file49\n",
      "Saved audio file50\n",
      "Saved audio file51\n",
      "Saved audio file52\n",
      "Saved audio file53\n",
      "Saved audio file54\n",
      "Saved audio file55\n",
      "Saved audio file56\n",
      "Saved audio file57\n",
      "Saved audio file58\n",
      "Saved audio file59\n",
      "Saved audio file60\n",
      "Saved audio file61\n",
      "Saved audio file62\n",
      "Saved audio file63\n",
      "Saved audio file64\n",
      "Saved audio file65\n",
      "Saved audio file66\n"
     ]
    }
   ],
   "source": [
    "download_audio_and_save(links)"
   ]
  },
  {
   "cell_type": "code",
   "execution_count": null,
   "metadata": {},
   "outputs": [],
   "source": []
  }
 ],
 "metadata": {
  "kernelspec": {
   "display_name": "Python 3",
   "language": "python",
   "name": "python3"
  },
  "language_info": {
   "codemirror_mode": {
    "name": "ipython",
    "version": 3
   },
   "file_extension": ".py",
   "mimetype": "text/x-python",
   "name": "python",
   "nbconvert_exporter": "python",
   "pygments_lexer": "ipython3",
   "version": "3.8.5"
  },
  "varInspector": {
   "cols": {
    "lenName": 16,
    "lenType": 16,
    "lenVar": 40
   },
   "kernels_config": {
    "python": {
     "delete_cmd_postfix": "",
     "delete_cmd_prefix": "del ",
     "library": "var_list.py",
     "varRefreshCmd": "print(var_dic_list())"
    },
    "r": {
     "delete_cmd_postfix": ") ",
     "delete_cmd_prefix": "rm(",
     "library": "var_list.r",
     "varRefreshCmd": "cat(var_dic_list()) "
    }
   },
   "types_to_exclude": [
    "module",
    "function",
    "builtin_function_or_method",
    "instance",
    "_Feature"
   ],
   "window_display": false
  }
 },
 "nbformat": 4,
 "nbformat_minor": 4
}
